{
 "cells": [
  {
   "cell_type": "code",
   "execution_count": 1,
   "metadata": {},
   "outputs": [],
   "source": [
    "import pandas as pd\n",
    "import numpy as np"
   ]
  },
  {
   "cell_type": "code",
   "execution_count": 2,
   "metadata": {},
   "outputs": [],
   "source": [
    "# Read all csv in data folder\n",
    "ls_geo = [\n",
    "    pd.read_csv(\"data/BA.csv\"),\n",
    "    pd.read_csv(\"data/CE.csv\"),\n",
    "    pd.read_csv(\"data/TO.csv\"),\n",
    "    pd.read_csv(\"data/PE.csv\")\n",
    "]\n",
    "\n",
    "ls_score = [\n",
    "    pd.read_csv(\"data/BA_score.csv\"),\n",
    "    pd.read_csv(\"data/CE_Score.csv\"),\n",
    "    pd.read_csv(\"data/TO_Score.csv\"),\n",
    "    pd.read_csv(\"data/PE_Score.csv\")\n",
    "]"
   ]
  },
  {
   "cell_type": "code",
   "execution_count": 3,
   "metadata": {},
   "outputs": [
    {
     "data": {
      "text/plain": [
       "Index(['Cod Mun', 'Municípios', '[616]Situação do domicílio',\n",
       "       '[616]Grupo de idade', '[616]Total', '[1384]Total',\n",
       "       '[1384]Até 1/2 salário mínimo', '[1384]Mais de 1/2 a 1 salário mínimo',\n",
       "       '[1384]Mais de 1 a 2 salários mínimos',\n",
       "       '[1384]Mais de 2 a 5 salários mínimos',\n",
       "       ...\n",
       "       '[3603]Total.4', '[3603]Total.5', '[3603]Total.6',\n",
       "       '[3604]Grupos de horas habitualmente trabalhadas por semana no trabalho principal',\n",
       "       '[3604]Total', '[3604]Total.1', '[3604]Total.2', '[3604]Total.3',\n",
       "       '[3604]Total.4', 'geometry'],\n",
       "      dtype='object', length=281)"
      ]
     },
     "execution_count": 3,
     "metadata": {},
     "output_type": "execute_result"
    }
   ],
   "source": [
    "ls_geo[3].columns"
   ]
  },
  {
   "cell_type": "code",
   "execution_count": 4,
   "metadata": {},
   "outputs": [],
   "source": [
    "for i, df in enumerate(ls_geo):\n",
    "    ls_geo[i] = df.loc[:,[\"geometry\", \"Cod Mun\", \"Municípios\"]]"
   ]
  },
  {
   "cell_type": "code",
   "execution_count": 5,
   "metadata": {},
   "outputs": [],
   "source": [
    "for i, df in enumerate(ls_score):\n",
    "    ls_score[i] = df.loc[:,[\"Cod Mun\", \"Score\"]]"
   ]
  },
  {
   "cell_type": "code",
   "execution_count": 6,
   "metadata": {},
   "outputs": [],
   "source": [
    "# Concatenate all dataframes\n",
    "df_geo = pd.concat(ls_geo)\n",
    "df_score = pd.concat(ls_score)\n",
    "\n",
    "# Merge dataframes\n",
    "df = pd.merge(df_geo, df_score, on=\"Cod Mun\")\n",
    "\n",
    "# Save to csv\n",
    "df.to_csv(\"data/nordeste.csv\", index=False)\n"
   ]
  }
 ],
 "metadata": {
  "kernelspec": {
   "display_name": "Python 3.10.6 ('venv': venv)",
   "language": "python",
   "name": "python3"
  },
  "language_info": {
   "codemirror_mode": {
    "name": "ipython",
    "version": 3
   },
   "file_extension": ".py",
   "mimetype": "text/x-python",
   "name": "python",
   "nbconvert_exporter": "python",
   "pygments_lexer": "ipython3",
   "version": "3.10.6"
  },
  "orig_nbformat": 4,
  "vscode": {
   "interpreter": {
    "hash": "db39f2162f6da9171a180c49f2e66f1ed4810431cefa1a027cf5d781715889f4"
   }
  }
 },
 "nbformat": 4,
 "nbformat_minor": 2
}
