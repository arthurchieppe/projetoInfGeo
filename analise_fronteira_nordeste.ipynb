{
 "cells": [
  {
   "cell_type": "code",
   "execution_count": null,
   "metadata": {
    "colab": {
     "base_uri": "https://localhost:8080/"
    },
    "id": "72AzadGljmwA",
    "outputId": "8fd02345-6aec-4619-e00c-fb78e238abcd"
   },
   "outputs": [],
   "source": [
    "import geopandas as gpd\n",
    "import pandas as pd\n",
    "import matplotlib.pyplot as plt\n",
    "import contextily\n",
    "\n",
    "from pysal.viz import splot\n",
    "from splot.esda import plot_moran\n",
    "from pysal.explore import esda\n",
    "from pysal.lib import weights\n",
    "from numpy.random import seed\n",
    "\n",
    "from esda.moran import Moran\n",
    "from splot.esda import moran_scatterplot\n",
    "\n",
    "%config InlineBackend.figure_format = \"retina\""
   ]
  },
  {
   "cell_type": "code",
   "execution_count": null,
   "metadata": {
    "id": "yzbxvGHTjmwD"
   },
   "outputs": [],
   "source": [
    "# Display all columns pandas\n",
    "pd.set_option(\"display.max_columns\", None)"
   ]
  },
  {
   "cell_type": "code",
   "execution_count": null,
   "metadata": {
    "colab": {
     "base_uri": "https://localhost:8080/"
    },
    "id": "UzVSQKcFkikJ",
    "outputId": "0ba76e1f-a443-4777-fdcc-338a898694bb"
   },
   "outputs": [],
   "source": [
    "# import sys\n",
    "# import csv\n",
    "\n",
    "# csv.field_size_limit(sys.maxsize)"
   ]
  },
  {
   "cell_type": "code",
   "execution_count": null,
   "metadata": {
    "id": "ggUXWQELjmwD"
   },
   "outputs": [],
   "source": [
    "ms = pd.read_csv(\"MS_Score.csv\")\n",
    "ms_geo = pd.read_csv(\"MS.csv\")"
   ]
  },
  {
   "cell_type": "code",
   "execution_count": null,
   "metadata": {
    "colab": {
     "base_uri": "https://localhost:8080/"
    },
    "id": "9HXqEQgnjmwE",
    "outputId": "845a1172-6d63-4f53-eb40-c7e09416ff75"
   },
   "outputs": [],
   "source": [
    "df = pd.merge(ms, ms_geo.loc[:,[\"Cod Mun\", \"geometry\", \"centroides\"]], on=\"Cod Mun\")\n",
    "print(df.shape)"
   ]
  },
  {
   "cell_type": "code",
   "execution_count": null,
   "metadata": {
    "colab": {
     "base_uri": "https://localhost:8080/"
    },
    "id": "R_-ctc5ijmwE",
    "outputId": "c4d0eb50-808e-42e8-f774-116627b09def"
   },
   "outputs": [],
   "source": [
    "df.dtypes"
   ]
  },
  {
   "cell_type": "code",
   "execution_count": null,
   "metadata": {
    "colab": {
     "base_uri": "https://localhost:8080/"
    },
    "id": "IJxTxS1MjmwE",
    "outputId": "ed643958-e165-4c17-ed5f-1951d7963ae7"
   },
   "outputs": [],
   "source": [
    "df.columns"
   ]
  },
  {
   "cell_type": "code",
   "execution_count": null,
   "metadata": {
    "id": "8-ZFTFfujmwF"
   },
   "outputs": [],
   "source": [
    "from shapely import wkt\n",
    "gdf = gpd.GeoDataFrame(data=df)\n",
    "gdf[\"geometry\"] = gdf[\"geometry\"].apply(wkt.loads)\n",
    "gdf.set_geometry(\"geometry\")\n",
    "gdf = gdf.set_crs(crs=\"epsg:4674\").to_crs(epsg=5880)"
   ]
  },
  {
   "cell_type": "code",
   "execution_count": null,
   "metadata": {
    "colab": {
     "base_uri": "https://localhost:8080/"
    },
    "id": "pZjkK7W8jmwF",
    "outputId": "3e35965f-35d6-4007-a459-4d9d64e0c3e5"
   },
   "outputs": [],
   "source": [
    "gdf.crs"
   ]
  },
  {
   "cell_type": "code",
   "execution_count": null,
   "metadata": {
    "colab": {
     "base_uri": "https://localhost:8080/",
     "height": 686
    },
    "id": "RfHgXjSAlDN2",
    "outputId": "97d6510b-0e57-4a8c-d72d-6959a0cdf29f"
   },
   "outputs": [],
   "source": [
    "gdf.head()"
   ]
  },
  {
   "cell_type": "code",
   "execution_count": null,
   "metadata": {
    "colab": {
     "base_uri": "https://localhost:8080/",
     "height": 614
    },
    "id": "TLFks1MPjmwG",
    "outputId": "e253efc0-44cd-4c8f-d67b-68a864a81799"
   },
   "outputs": [],
   "source": [
    "fig, ax = plt.subplots(1, figsize=(10, 10))\n",
    "gdf.plot(\n",
    "    column=\"Score\",\n",
    "    cmap=\"viridis\",\n",
    "    scheme=\"quantiles\",\n",
    "    k=5,\n",
    "    edgecolor=\"white\",\n",
    "    linewidth=0.0,\n",
    "    alpha=0.75,\n",
    "    legend=True,\n",
    "    legend_kwds={\"loc\":2},\n",
    "    ax=ax)\n",
    "contextily.add_basemap(ax, crs=gdf.crs)\n",
    "plt.show()"
   ]
  },
  {
   "cell_type": "markdown",
   "metadata": {
    "id": "K7jjg1vhk2Vf"
   },
   "source": [
    "## Moran"
   ]
  },
  {
   "cell_type": "code",
   "execution_count": null,
   "metadata": {
    "id": "LS0kHMxGjmwH"
   },
   "outputs": [],
   "source": [
    "w = weights.KNN.from_dataframe(gdf, k=8) #get 8 neighbor\n",
    "w.transform = \"R\" #normalize all the rows"
   ]
  },
  {
   "cell_type": "code",
   "execution_count": null,
   "metadata": {
    "id": "XNQcQaWFk6T6"
   },
   "outputs": [],
   "source": [
    "moran = Moran(gdf[\"Score\"], w)"
   ]
  },
  {
   "cell_type": "code",
   "execution_count": null,
   "metadata": {
    "colab": {
     "base_uri": "https://localhost:8080/"
    },
    "id": "7TecXipslOAZ",
    "outputId": "aed20a10-b986-4e3b-8853-53881e382aeb"
   },
   "outputs": [],
   "source": [
    "moran.I"
   ]
  },
  {
   "cell_type": "code",
   "execution_count": null,
   "metadata": {
    "colab": {
     "base_uri": "https://localhost:8080/",
     "height": 324
    },
    "id": "daZ28-LIlQ5R",
    "outputId": "634071e1-d322-44eb-d63b-afd0d6d20e25"
   },
   "outputs": [],
   "source": [
    "fig, ax = moran_scatterplot(moran, aspect_equal = True)\n",
    "plt.show()"
   ]
  },
  {
   "cell_type": "markdown",
   "metadata": {
    "id": "qlRfU4P3laW0"
   },
   "source": [
    "## Lisa"
   ]
  },
  {
   "cell_type": "code",
   "execution_count": null,
   "metadata": {
    "id": "LApLmNenlWuq"
   },
   "outputs": [],
   "source": [
    "from esda.moran import Moran_Local\n",
    "from splot.esda import lisa_cluster \n",
    "from splot.esda import plot_local_autocorrelation"
   ]
  },
  {
   "cell_type": "code",
   "execution_count": null,
   "metadata": {
    "id": "iOhwxiXHlmdF"
   },
   "outputs": [],
   "source": [
    "moran_loc = Moran_Local(gdf[\"Score\"], w, )"
   ]
  },
  {
   "cell_type": "code",
   "execution_count": null,
   "metadata": {},
   "outputs": [],
   "source": [
    "gdf[\"moran_p_value\"] = moran_loc.p_sim"
   ]
  },
  {
   "cell_type": "code",
   "execution_count": null,
   "metadata": {},
   "outputs": [],
   "source": [
    "# Get LISA clusters\n",
    "clusters = lisa_cluster(moran_loc, gdf, p=0.05)"
   ]
  },
  {
   "cell_type": "code",
   "execution_count": null,
   "metadata": {
    "colab": {
     "base_uri": "https://localhost:8080/",
     "height": 305
    },
    "id": "Cj1V5EDOlh3a",
    "outputId": "4098754d-e4f1-4834-fa70-6f9b24146902"
   },
   "outputs": [],
   "source": [
    "plot_local_autocorrelation(moran_loc, gdf, \"Score\")\n",
    "plt.show()"
   ]
  },
  {
   "cell_type": "code",
   "execution_count": null,
   "metadata": {
    "id": "xv0SRo7Zl1Px"
   },
   "outputs": [],
   "source": [
    "# Add moran to columns\n",
    "gdf[\"moran\"] = moran_loc.Is"
   ]
  },
  {
   "cell_type": "code",
   "execution_count": null,
   "metadata": {},
   "outputs": [],
   "source": [
    "gdf[\"cluster_label\"] = moran_loc.q\n",
    "\n",
    "# Create a dictionary to map cluster labels to colors\n",
    "cluster_colors = {1: \"red\", 2: \"#e28743\", 3: \"#23dcc8\", 4: \"blue\", 5: \"grey\"}\n",
    "\n",
    "# Create a dictionary to map cluster labels to labels\n",
    "cluster_labels = {1: \"High-High\", 2: \"Low-High\", 3: \"Low-Low\", 4: \"High-Low\", 5: \"Not Significant\"}\n",
    "\n",
    "# Set cluster_label to 5 when moran_p_value is less than 0.05\n",
    "gdf.loc[gdf[\"moran_p_value\"] > 0.05, \"cluster_label\"] = 5\n",
    "\n",
    "# Map the colors to the cluster labels\n",
    "gdf[\"cluster_color\"] = gdf[\"cluster_label\"].map(cluster_colors)\n",
    "\n",
    "# Map the labels to the cluster labels\n",
    "gdf[\"cluster_label\"] = gdf[\"cluster_label\"].map(cluster_labels)\n"
   ]
  },
  {
   "cell_type": "code",
   "execution_count": null,
   "metadata": {},
   "outputs": [],
   "source": [
    "# Drop all columns except geometry and moran and Cod Mun and Municipios and Score\n",
    "gdf = gdf.loc[:,[\"geometry\", \"moran\", \"Cod Mun\", \"Municípios\", \"Score\", \"cluster_label\", \"cluster_color\", \"centroides\", \"moran_p_value\"]]"
   ]
  },
  {
   "cell_type": "code",
   "execution_count": null,
   "metadata": {},
   "outputs": [],
   "source": [
    "gdf.explore(\n",
    "    column=\"moran\",\n",
    "    tooltip=[\"Municípios\"],\n",
    "    popup=True,\n",
    "    cmap=\"Blues\",\n",
    "    tiles=\"Stamen Terrain\",\n",
    "    scheme=\"quantiles\",\n",
    "    k=20\n",
    "\n",
    ")"
   ]
  },
  {
   "cell_type": "code",
   "execution_count": null,
   "metadata": {},
   "outputs": [],
   "source": [
    "ls_color = cluster_colors.values()"
   ]
  },
  {
   "cell_type": "code",
   "execution_count": null,
   "metadata": {},
   "outputs": [],
   "source": [
    "import matplotlib.colors as colors\n",
    "gdf.explore(\n",
    "    column=\"cluster_label\",\n",
    "    # tooltip=[\"Municípios\"],\n",
    "    popup=True,\n",
    "    cmap=colors.ListedColormap(ls_color),\n",
    "    tiles=\"Stamen Terrain\",\n",
    "    # scheme=\"quantiles\",\n",
    "    k=20\n",
    "\n",
    ")"
   ]
  }
 ],
 "metadata": {
  "colab": {
   "provenance": []
  },
  "kernelspec": {
   "display_name": "Python 3.10.6 ('venv': venv)",
   "language": "python",
   "name": "python3"
  },
  "language_info": {
   "codemirror_mode": {
    "name": "ipython",
    "version": 3
   },
   "file_extension": ".py",
   "mimetype": "text/x-python",
   "name": "python",
   "nbconvert_exporter": "python",
   "pygments_lexer": "ipython3",
   "version": "3.10.6"
  },
  "vscode": {
   "interpreter": {
    "hash": "db39f2162f6da9171a180c49f2e66f1ed4810431cefa1a027cf5d781715889f4"
   }
  }
 },
 "nbformat": 4,
 "nbformat_minor": 4
}
